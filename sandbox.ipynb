{
 "cells": [
  {
   "cell_type": "code",
   "execution_count": 1,
   "metadata": {},
   "outputs": [],
   "source": [
    "list1 = ['1', '2', '3']\n",
    "str1 = ''.join(list1)"
   ]
  },
  {
   "cell_type": "code",
   "execution_count": null,
   "metadata": {},
   "outputs": [],
   "source": [
    "text=''"
   ]
  },
  {
   "cell_type": "code",
   "execution_count": 5,
   "metadata": {},
   "outputs": [],
   "source": [
    "produkt_liste=[\"(?i)(\\W|^)(ios)(\\W|$)\"]\n",
    "               \n",
    "               #,\"c\",\"android\",\"php\",\"c#\",\"python\" ,\"java\",\"javascript\"]"
   ]
  },
  {
   "cell_type": "code",
   "execution_count": null,
   "metadata": {},
   "outputs": [],
   "source": []
  },
  {
   "cell_type": "code",
   "execution_count": 6,
   "metadata": {},
   "outputs": [
    {
     "ename": "NameError",
     "evalue": "name 'selected_dataframe' is not defined",
     "output_type": "error",
     "traceback": [
      "\u001b[1;31m---------------------------------------------------------------------------\u001b[0m",
      "\u001b[1;31mNameError\u001b[0m                                 Traceback (most recent call last)",
      "\u001b[1;32m<ipython-input-6-1814e12e5ed5>\u001b[0m in \u001b[0;36m<module>\u001b[1;34m\u001b[0m\n\u001b[1;32m----> 1\u001b[1;33m \u001b[1;32mfor\u001b[0m \u001b[0mi\u001b[0m \u001b[1;32min\u001b[0m \u001b[0mrange\u001b[0m\u001b[1;33m(\u001b[0m\u001b[0mlen\u001b[0m\u001b[1;33m(\u001b[0m\u001b[0mselected_dataframe\u001b[0m\u001b[1;33m)\u001b[0m\u001b[1;33m)\u001b[0m\u001b[1;33m:\u001b[0m\u001b[1;33m\u001b[0m\u001b[1;33m\u001b[0m\u001b[0m\n\u001b[0m\u001b[0;32m      2\u001b[0m     \u001b[1;32mfor\u001b[0m \u001b[0mx\u001b[0m \u001b[1;32min\u001b[0m \u001b[0mrange\u001b[0m\u001b[1;33m(\u001b[0m\u001b[0mlen\u001b[0m\u001b[1;33m(\u001b[0m\u001b[0mprodukt_liste\u001b[0m\u001b[1;33m)\u001b[0m\u001b[1;33m)\u001b[0m\u001b[1;33m:\u001b[0m\u001b[1;33m\u001b[0m\u001b[1;33m\u001b[0m\u001b[0m\n\u001b[0;32m      3\u001b[0m         \u001b[1;32mif\u001b[0m \u001b[0mre\u001b[0m\u001b[1;33m.\u001b[0m\u001b[0msearch\u001b[0m\u001b[1;33m(\u001b[0m\u001b[0mprodukt_liste\u001b[0m\u001b[1;33m[\u001b[0m\u001b[0mx\u001b[0m\u001b[1;33m]\u001b[0m \u001b[1;33m,\u001b[0m\u001b[0mselected_dataframe\u001b[0m\u001b[1;33m.\u001b[0m\u001b[0mloc\u001b[0m\u001b[1;33m[\u001b[0m\u001b[0mi\u001b[0m\u001b[1;33m,\u001b[0m\u001b[1;34m\"tags\"\u001b[0m\u001b[1;33m]\u001b[0m\u001b[1;33m)\u001b[0m\u001b[1;33m:\u001b[0m\u001b[1;33m\u001b[0m\u001b[1;33m\u001b[0m\u001b[0m\n\u001b[0;32m      4\u001b[0m             \u001b[0mselected_dataframe\u001b[0m\u001b[1;33m.\u001b[0m\u001b[0mloc\u001b[0m\u001b[1;33m[\u001b[0m\u001b[0mi\u001b[0m\u001b[1;33m,\u001b[0m\u001b[1;34m\"product_category\"\u001b[0m\u001b[1;33m]\u001b[0m\u001b[1;33m=\u001b[0m\u001b[0mprodukt_liste\u001b[0m\u001b[1;33m[\u001b[0m\u001b[0mx\u001b[0m\u001b[1;33m]\u001b[0m\u001b[1;33m\u001b[0m\u001b[1;33m\u001b[0m\u001b[0m\n",
      "\u001b[1;31mNameError\u001b[0m: name 'selected_dataframe' is not defined"
     ]
    }
   ],
   "source": [
    "for i in range(len(selected_dataframe)):\n",
    "    for x in range(len(produkt_liste)):\n",
    "        if re.search(produkt_liste[x] ,selected_dataframe.loc[i,\"tags\"]):\n",
    "            selected_dataframe.loc[i,\"product_category\"]=produkt_liste[x]"
   ]
  },
  {
   "cell_type": "code",
   "execution_count": 7,
   "metadata": {},
   "outputs": [],
   "source": [
    "txt=['php|html|mysql|post', 'c|winapi|unicode|lua', 'c#|wpf|combobox', 'javascript|php|mysql|angularjs|angularjs-http', 'c++|arrays|vector', 'jquery|html', 'go', 'android', 'javascript|jquery|html', 'php|ios|objective-c|xcode|nsdocument', 'javascript|jquery|html|css', 'php|dreamweaver|custom-type', 'c#|list|date|datetime', 'c#|sql|sql-server', 'python|pymssql', 'android|android-intent|spotify', 'c#|.net|entity-framework|transactions', 'c#|excel|exception|interop|add-in', 'c#|arrays|string', 'c#|windows-8|zipfile', 'javascript', 'javascript', 'c|pointers|memory|memory-leaks|valgrind', 'javascript|javascript-events|event-handling|jquery', 'jquery', 'c#|c#-4.0', 'android|android-intent', 'php|excel|import|excel-2007', 'php|mysql|database-connection', 'haskell|redis|connection-string|unix-socket', 'html|css', 'angularjs', 'android|google-maps', 'c#|ef-code-first|foreign-keys|entity-framework-5|ef-database-first', 'java|search|multidimensional-array', 'php|mysql|arrays|pdo|echo', 'c#|asp.net-mvc', 'ruby-on-rails|polymorphism|has-many-through|polymorphic-associations', 'javascript|php|jquery', 'c++|cmake', 'javascript|jquery|backbone.js|render|timing', 'javascript|jquery|jquery-animate', 'iphone|ios|sentestingkit', 'oracle|plsql|data-dictionary', 'java|geometry|polygon', 'javascript|css|html|background|tinymce', 'php|jquery|phpquery', 'javascript|asp.net', 'javascript|jquery|html', 'r|openstreetmap', 'java', 'python|python-2.7', 'javascript|php|browser', 'c++|c|malloc', 'mysql|csv|primary-key', 'java|variadic-functions', 'php|zend-framework|zend-controller', 'javascript|jquery|iframe|google-chrome-extension', 'java|matrix|classification|tf-idf', 'php|zend-server', 'asp.net-mvc', 'ruby|facebook', 'haskell', 'java|swing|look-and-feel', 'java|decimalformat', 'python|django|authentication', 'javascript|jquery', 'c++|boost|boost-asio', 'javascript|jquery|asp.net-mvc-3|razor', 'php|html|forms|codeigniter', 'java|console-application|poker', 'mysql|pdo', 'c++|compiler-errors|xsd|xerces|codesynthesis', 'php|mysql|database|yii', 'java|c#|oop', 'c|io|double|printf', 'multithreading|perl', 'java|sql|syntax', 'xcode|app-store-connect', 'php|mysql|ios|notifications|push', 'c++|operator-overloading', 'c++|algorithm', 'php|arrays|sorting', 'android|android-fragments|back-stack']"
   ]
  },
  {
   "cell_type": "code",
   "execution_count": 15,
   "metadata": {},
   "outputs": [
    {
     "data": {
      "text/plain": [
       "['ios', 'ios', 'ios']"
      ]
     },
     "execution_count": 15,
     "metadata": {},
     "output_type": "execute_result"
    }
   ],
   "source": [
    "import re\n",
    "found=[]\n",
    "for i in range(len(txt)): \n",
    "    if re.search('(ios)', txt[i]):\n",
    "        found.append(\"ios\")\n",
    "\n",
    "found"
   ]
  },
  {
   "cell_type": "code",
   "execution_count": null,
   "metadata": {},
   "outputs": [],
   "source": [
    "for i in range(len(selected_dataframe)):\n",
    "    for x in range(len(produkt_liste)):\n",
    "        if re.search(produkt_liste[x] ,selected_dataframe.loc[i,\"tags\"]):\n",
    "            selected_dataframe.loc[i,\"product_category\"]=produkt_liste[x]"
   ]
  },
  {
   "cell_type": "code",
   "execution_count": null,
   "metadata": {},
   "outputs": [],
   "source": []
  },
  {
   "cell_type": "code",
   "execution_count": 2,
   "metadata": {},
   "outputs": [
    {
     "name": "stdout",
     "output_type": "stream",
     "text": [
      "123\n"
     ]
    }
   ],
   "source": [
    "print(str1)"
   ]
  },
  {
   "cell_type": "code",
   "execution_count": 8,
   "metadata": {},
   "outputs": [
    {
     "name": "stdout",
     "output_type": "stream",
     "text": [
      "<re.Match object; span=(0, 10), match='javascript'>\n"
     ]
    }
   ],
   "source": [
    "import re\n",
    "txt=\"javascriptphpmysqlangularjsangularjs-http\"\n",
    "\n",
    "x=re.search(\"javascript\" ,txt)\n",
    "print(x)\n",
    "       \n"
   ]
  },
  {
   "cell_type": "code",
   "execution_count": 16,
   "metadata": {},
   "outputs": [
    {
     "name": "stdout",
     "output_type": "stream",
     "text": [
      "[[3 4 0 1 3 0 0 1 4 4 1 2 4 2 4 3 4 2 4 2 4 1 1 0 1 1 1 1 0 4 1 0 0 3 2 1\n",
      "  0 3 1 1 3 4 0 1 3 4 2 4 0 3 1 2 0 4 1 2 2 1 0 1 3 4 3 1 3 0 0 2 2 1 3 4\n",
      "  2 0 0 1 1 3 0 0 4 2 4 3 3 0 3 4 3 4 4 4 1 0 4 2 0 2 4 1]\n",
      " [1 0 2 4 4 0 4 1 4 1 0 2 3 1 2 4 4 2 2 0 1 2 2 0 1 2 4 0 1 2 1 4 2 0 0 1\n",
      "  0 1 3 1 1 4 4 3 0 3 0 3 1 2 4 0 0 3 1 1 0 0 4 2 3 4 2 0 3 3 1 2 4 3 0 0\n",
      "  4 2 4 2 0 3 0 0 4 2 1 0 4 3 0 1 2 4 4 3 3 3 3 2 3 3 4 3]\n",
      " [2 4 4 0 3 3 0 3 1 0 2 2 2 0 2 1 4 0 4 4 1 3 1 4 1 2 1 0 0 2 4 1 0 0 3 1\n",
      "  0 4 3 2 3 4 4 3 0 0 0 4 1 4 1 2 2 4 3 4 4 0 3 2 4 3 4 2 3 0 2 1 3 2 0 1\n",
      "  4 1 3 3 1 2 0 2 4 0 2 4 3 4 3 0 4 2 2 4 1 2 1 1 1 0 4 4]\n",
      " [2 2 3 1 4 0 0 3 2 4 1 3 1 1 2 4 0 3 0 4 2 3 1 1 4 4 0 2 1 3 0 1 0 2 2 4\n",
      "  3 2 2 2 0 2 0 4 1 0 2 3 0 4 3 3 3 0 3 1 2 0 1 4 2 3 4 4 2 1 2 0 3 3 2 0\n",
      "  0 0 0 2 4 0 4 1 2 1 2 4 1 3 1 1 2 4 1 0 2 1 2 0 0 3 4 1]\n",
      " [0 4 0 3 2 4 3 2 4 2 4 0 0 4 2 2 4 2 3 0 0 4 3 4 3 3 4 0 3 1 4 4 3 2 2 2\n",
      "  2 2 0 2 1 2 3 0 0 1 1 3 3 3 1 3 3 3 1 3 0 4 0 2 4 4 2 0 3 2 4 0 4 2 3 4\n",
      "  2 4 1 3 4 3 0 3 0 4 3 0 3 1 4 4 2 2 4 2 1 2 3 1 3 3 0 4]\n",
      " [3 3 3 3 0 2 3 1 3 2 3 2 2 0 4 0 1 3 0 0 0 1 2 4 4 2 0 1 0 0 2 4 3 0 2 1\n",
      "  3 3 1 4 4 4 0 1 0 1 2 2 4 2 4 0 2 4 4 1 1 1 1 4 3 4 1 1 1 2 4 3 2 3 3 2\n",
      "  3 0 2 0 1 0 0 3 4 0 0 0 0 1 0 1 3 3 4 0 1 0 3 2 1 1 0 0]]\n",
      "[3]\n"
     ]
    }
   ],
   "source": [
    "import numpy as np\n",
    "rng = np.random.RandomState(1)\n",
    "X = rng.randint(5, size=(6, 100))\n",
    "print(X)\n",
    "\n",
    "y = np.array([1, 2, 3, 4, 5, 6])\n",
    "from sklearn.naive_bayes import MultinomialNB\n",
    "clf = MultinomialNB()\n",
    "clf.fit(X, y)\n",
    "\n",
    "print(clf.predict(X[2:3]))"
   ]
  },
  {
   "cell_type": "code",
   "execution_count": null,
   "metadata": {},
   "outputs": [],
   "source": []
  }
 ],
 "metadata": {
  "kernelspec": {
   "display_name": "Python 3",
   "language": "python",
   "name": "python3"
  },
  "language_info": {
   "codemirror_mode": {
    "name": "ipython",
    "version": 3
   },
   "file_extension": ".py",
   "mimetype": "text/x-python",
   "name": "python",
   "nbconvert_exporter": "python",
   "pygments_lexer": "ipython3",
   "version": "3.8.5"
  }
 },
 "nbformat": 4,
 "nbformat_minor": 4
}
