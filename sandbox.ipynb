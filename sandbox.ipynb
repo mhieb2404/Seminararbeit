{
 "cells": [
  {
   "cell_type": "code",
   "execution_count": 1,
   "metadata": {},
   "outputs": [],
   "source": [
    "list1 = ['1', '2', '3']\n",
    "str1 = ''.join(list1)"
   ]
  },
  {
   "cell_type": "code",
   "execution_count": 2,
   "metadata": {},
   "outputs": [
    {
     "name": "stdout",
     "output_type": "stream",
     "text": [
      "123\n"
     ]
    }
   ],
   "source": [
    "print(str1)"
   ]
  },
  {
   "cell_type": "code",
   "execution_count": 8,
   "metadata": {},
   "outputs": [
    {
     "name": "stdout",
     "output_type": "stream",
     "text": [
      "<re.Match object; span=(0, 10), match='javascript'>\n"
     ]
    }
   ],
   "source": [
    "import re\n",
    "txt=\"javascriptphpmysqlangularjsangularjs-http\"\n",
    "\n",
    "x=re.search(\"javascript\" ,txt)\n",
    "print(x)\n",
    "       \n"
   ]
  },
  {
   "cell_type": "code",
   "execution_count": 16,
   "metadata": {},
   "outputs": [
    {
     "name": "stdout",
     "output_type": "stream",
     "text": [
      "[[3 4 0 1 3 0 0 1 4 4 1 2 4 2 4 3 4 2 4 2 4 1 1 0 1 1 1 1 0 4 1 0 0 3 2 1\n",
      "  0 3 1 1 3 4 0 1 3 4 2 4 0 3 1 2 0 4 1 2 2 1 0 1 3 4 3 1 3 0 0 2 2 1 3 4\n",
      "  2 0 0 1 1 3 0 0 4 2 4 3 3 0 3 4 3 4 4 4 1 0 4 2 0 2 4 1]\n",
      " [1 0 2 4 4 0 4 1 4 1 0 2 3 1 2 4 4 2 2 0 1 2 2 0 1 2 4 0 1 2 1 4 2 0 0 1\n",
      "  0 1 3 1 1 4 4 3 0 3 0 3 1 2 4 0 0 3 1 1 0 0 4 2 3 4 2 0 3 3 1 2 4 3 0 0\n",
      "  4 2 4 2 0 3 0 0 4 2 1 0 4 3 0 1 2 4 4 3 3 3 3 2 3 3 4 3]\n",
      " [2 4 4 0 3 3 0 3 1 0 2 2 2 0 2 1 4 0 4 4 1 3 1 4 1 2 1 0 0 2 4 1 0 0 3 1\n",
      "  0 4 3 2 3 4 4 3 0 0 0 4 1 4 1 2 2 4 3 4 4 0 3 2 4 3 4 2 3 0 2 1 3 2 0 1\n",
      "  4 1 3 3 1 2 0 2 4 0 2 4 3 4 3 0 4 2 2 4 1 2 1 1 1 0 4 4]\n",
      " [2 2 3 1 4 0 0 3 2 4 1 3 1 1 2 4 0 3 0 4 2 3 1 1 4 4 0 2 1 3 0 1 0 2 2 4\n",
      "  3 2 2 2 0 2 0 4 1 0 2 3 0 4 3 3 3 0 3 1 2 0 1 4 2 3 4 4 2 1 2 0 3 3 2 0\n",
      "  0 0 0 2 4 0 4 1 2 1 2 4 1 3 1 1 2 4 1 0 2 1 2 0 0 3 4 1]\n",
      " [0 4 0 3 2 4 3 2 4 2 4 0 0 4 2 2 4 2 3 0 0 4 3 4 3 3 4 0 3 1 4 4 3 2 2 2\n",
      "  2 2 0 2 1 2 3 0 0 1 1 3 3 3 1 3 3 3 1 3 0 4 0 2 4 4 2 0 3 2 4 0 4 2 3 4\n",
      "  2 4 1 3 4 3 0 3 0 4 3 0 3 1 4 4 2 2 4 2 1 2 3 1 3 3 0 4]\n",
      " [3 3 3 3 0 2 3 1 3 2 3 2 2 0 4 0 1 3 0 0 0 1 2 4 4 2 0 1 0 0 2 4 3 0 2 1\n",
      "  3 3 1 4 4 4 0 1 0 1 2 2 4 2 4 0 2 4 4 1 1 1 1 4 3 4 1 1 1 2 4 3 2 3 3 2\n",
      "  3 0 2 0 1 0 0 3 4 0 0 0 0 1 0 1 3 3 4 0 1 0 3 2 1 1 0 0]]\n",
      "[3]\n"
     ]
    }
   ],
   "source": [
    "import numpy as np\n",
    "rng = np.random.RandomState(1)\n",
    "X = rng.randint(5, size=(6, 100))\n",
    "print(X)\n",
    "\n",
    "y = np.array([1, 2, 3, 4, 5, 6])\n",
    "from sklearn.naive_bayes import MultinomialNB\n",
    "clf = MultinomialNB()\n",
    "clf.fit(X, y)\n",
    "\n",
    "print(clf.predict(X[2:3]))"
   ]
  },
  {
   "cell_type": "code",
   "execution_count": null,
   "metadata": {},
   "outputs": [],
   "source": []
  }
 ],
 "metadata": {
  "kernelspec": {
   "display_name": "Python 3",
   "language": "python",
   "name": "python3"
  },
  "language_info": {
   "codemirror_mode": {
    "name": "ipython",
    "version": 3
   },
   "file_extension": ".py",
   "mimetype": "text/x-python",
   "name": "python",
   "nbconvert_exporter": "python",
   "pygments_lexer": "ipython3",
   "version": "3.8.5"
  }
 },
 "nbformat": 4,
 "nbformat_minor": 4
}
