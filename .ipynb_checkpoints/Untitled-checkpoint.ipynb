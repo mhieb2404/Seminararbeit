{
 "cells": [
  {
   "cell_type": "code",
   "execution_count": 3,
   "metadata": {},
   "outputs": [
    {
     "data": {
      "text/plain": [
       "['php|html|mysql|post',\n",
       " 'c|winapi|unicode|lua',\n",
       " 'c#|wpf|combobox',\n",
       " 'javascript|php|mysql|angularjs|angularjs-http',\n",
       " 'c++|arrays|vector',\n",
       " 'jquery|html',\n",
       " 'go',\n",
       " 'android',\n",
       " 'javascript|jquery|html',\n",
       " 'php|ios|objective-c|xcode|nsdocument',\n",
       " 'javascript|jquery|html|css',\n",
       " 'php|dreamweaver|custom-type',\n",
       " 'c#|list|date|datetime',\n",
       " 'c#|sql|sql-server',\n",
       " 'python|pymssql',\n",
       " 'android|android-intent|spotify',\n",
       " 'c#|.net|entity-framework|transactions',\n",
       " 'c#|excel|exception|interop|add-in',\n",
       " 'c#|arrays|string',\n",
       " 'c#|windows-8|zipfile',\n",
       " 'javascript',\n",
       " 'javascript',\n",
       " 'c|pointers|memory|memory-leaks|valgrind',\n",
       " 'javascript|javascript-events|event-handling|jquery',\n",
       " 'jquery',\n",
       " 'c#|c#-4.0',\n",
       " 'android|android-intent',\n",
       " 'php|excel|import|excel-2007',\n",
       " 'php|mysql|database-connection',\n",
       " 'haskell|redis|connection-string|unix-socket',\n",
       " 'html|css',\n",
       " 'angularjs',\n",
       " 'android|google-maps',\n",
       " 'c#|ef-code-first|foreign-keys|entity-framework-5|ef-database-first',\n",
       " 'java|search|multidimensional-array',\n",
       " 'php|mysql|arrays|pdo|echo']"
      ]
     },
     "execution_count": 3,
     "metadata": {},
     "output_type": "execute_result"
    }
   ],
   "source": [
    "example=['php|html|mysql|post', 'c|winapi|unicode|lua', 'c#|wpf|combobox', 'javascript|php|mysql|angularjs|angularjs-http', 'c++|arrays|vector', 'jquery|html', 'go', 'android', 'javascript|jquery|html', 'php|ios|objective-c|xcode|nsdocument', 'javascript|jquery|html|css', 'php|dreamweaver|custom-type', 'c#|list|date|datetime', 'c#|sql|sql-server', 'python|pymssql', 'android|android-intent|spotify', 'c#|.net|entity-framework|transactions', 'c#|excel|exception|interop|add-in', 'c#|arrays|string', 'c#|windows-8|zipfile', 'javascript', 'javascript', 'c|pointers|memory|memory-leaks|valgrind', 'javascript|javascript-events|event-handling|jquery', 'jquery', 'c#|c#-4.0', 'android|android-intent', 'php|excel|import|excel-2007', 'php|mysql|database-connection', 'haskell|redis|connection-string|unix-socket', 'html|css', 'angularjs', 'android|google-maps', 'c#|ef-code-first|foreign-keys|entity-framework-5|ef-database-first', 'java|search|multidimensional-array', 'php|mysql|arrays|pdo|echo']\n",
    "example"
   ]
  },
  {
   "cell_type": "code",
   "execution_count": 12,
   "metadata": {},
   "outputs": [],
   "source": [
    "lange=len(example)"
   ]
  },
  {
   "cell_type": "code",
   "execution_count": 63,
   "metadata": {},
   "outputs": [
    {
     "name": "stdout",
     "output_type": "stream",
     "text": [
      "<re.Match object; span=(40, 43), match='c++'>\n"
     ]
    }
   ],
   "source": [
    "liste=[]\n",
    "import re\n",
    "\n",
    "txt='php|mysql|arrays|pdo|echoarraysarrarraysc++'\n",
    "x = re.search(\"c[+][+]\", txt ,re.M|re.I)\n",
    "\n",
    "print(x)\n"
   ]
  },
  {
   "cell_type": "code",
   "execution_count": 75,
   "metadata": {},
   "outputs": [
    {
     "name": "stdout",
     "output_type": "stream",
     "text": [
      "Not Found\n"
     ]
    }
   ],
   "source": [
    "strs = 'android|google-mapsc|ef-code-first|c++|entity-framework-5|ef-database-firstjava|search|multidimensional-arrayphp|mysql|arrays|pdo|echo'\n",
    "x=re.search(r'\\bc[+][+]\\b',strs)\n",
    "\n",
    "\n",
    "if x:\n",
    "    print(\"Found\")\n",
    "else:\n",
    "    print(\"Not Found\")\n",
    "  \n"
   ]
  },
  {
   "cell_type": "code",
   "execution_count": null,
   "metadata": {},
   "outputs": [],
   "source": []
  }
 ],
 "metadata": {
  "kernelspec": {
   "display_name": "Python 3",
   "language": "python",
   "name": "python3"
  },
  "language_info": {
   "codemirror_mode": {
    "name": "ipython",
    "version": 3
   },
   "file_extension": ".py",
   "mimetype": "text/x-python",
   "name": "python",
   "nbconvert_exporter": "python",
   "pygments_lexer": "ipython3",
   "version": "3.8.5"
  }
 },
 "nbformat": 4,
 "nbformat_minor": 4
}
